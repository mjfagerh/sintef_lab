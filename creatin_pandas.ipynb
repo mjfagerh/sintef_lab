{
 "cells": [
  {
   "cell_type": "code",
   "execution_count": 26,
   "metadata": {
    "collapsed": true
   },
   "outputs": [],
   "source": [
    "import pandas as pd\n",
    "csv_name = \"scanner_data_15_feb\""
   ]
  },
  {
   "cell_type": "code",
   "execution_count": 18,
   "outputs": [],
   "source": [
    "\n",
    "df = pd.DataFrame(columns=[\"Filename\",\"Error\",\"Kv\",\"uA\",\"W\",\"ExposureTime\",\"Gain\",\"Binning\"])\n",
    "df.to_csv(csv_name,index=False)"
   ],
   "metadata": {
    "collapsed": false,
    "pycharm": {
     "name": "#%%\n"
    }
   }
  },
  {
   "cell_type": "code",
   "execution_count": 27,
   "outputs": [],
   "source": [
    "def add_scann(Filname=\"_\",Error=\"_\",Kv=0,uA=0,W=0,ExposureTime=0,Gain=0,Binning=\"_\"):\n",
    "\n",
    "    row = pd.DataFrame([[Filname, Error, Kv, uA, W, ExposureTime, Gain, Binning]])\n",
    "    row.to_csv(csv_name,mode='a',index=False, header=False)\n",
    "\n",
    "def remove_empty_scanns():\n",
    "    df = pd.read_csv(\"scanner_data_15_feb\")\n",
    "    df =df.drop(df[df.Filename == \"_\"].index)\n",
    "    df.to_csv(csv_name,index=False)\n",
    "\n"
   ],
   "metadata": {
    "collapsed": false,
    "pycharm": {
     "name": "#%%\n"
    }
   }
  },
  {
   "cell_type": "code",
   "execution_count": 19,
   "outputs": [],
   "source": [],
   "metadata": {
    "collapsed": false,
    "pycharm": {
     "name": "#%%\n"
    }
   }
  },
  {
   "cell_type": "code",
   "execution_count": null,
   "outputs": [],
   "source": [],
   "metadata": {
    "collapsed": false,
    "pycharm": {
     "name": "#%%\n"
    }
   }
  }
 ],
 "metadata": {
  "kernelspec": {
   "display_name": "Python 3",
   "language": "python",
   "name": "python3"
  },
  "language_info": {
   "codemirror_mode": {
    "name": "ipython",
    "version": 2
   },
   "file_extension": ".py",
   "mimetype": "text/x-python",
   "name": "python",
   "nbconvert_exporter": "python",
   "pygments_lexer": "ipython2",
   "version": "2.7.6"
  }
 },
 "nbformat": 4,
 "nbformat_minor": 0
}